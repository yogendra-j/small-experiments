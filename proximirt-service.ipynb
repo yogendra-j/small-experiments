{
 "cells": [
  {
   "cell_type": "code",
   "execution_count": 1,
   "metadata": {},
   "outputs": [],
   "source": [
    "import math\n",
    "import random\n",
    "import time"
   ]
  },
  {
   "cell_type": "code",
   "execution_count": 13,
   "metadata": {},
   "outputs": [],
   "source": [
    "\n",
    "\n",
    "# Generating random locations of items (e.g., restaurants)\n",
    "items = [(random.randint(0, 9999), random.randint(0, 9999)) for _ in range(3000000)]\n",
    "\n",
    "# Threshold distance\n",
    "threshold = 100\n",
    "\n",
    "# Example coordinates of the client\n",
    "client_x, client_y = 5000, 5000"
   ]
  },
  {
   "cell_type": "code",
   "execution_count": 14,
   "metadata": {},
   "outputs": [],
   "source": [
    "def euclidean_distance(x1, y1, x2, y2):\n",
    "    return math.sqrt((x1 - x2)**2 + (y1 - y2)**2)\n",
    "\n",
    "def find_within_threshold(x, y, points, threshold):\n",
    "    within_threshold = []\n",
    "    \n",
    "    for point in points:\n",
    "        distance = euclidean_distance(x, y, point[0], point[1])\n",
    "        if distance <= threshold:\n",
    "            within_threshold.append(point)\n",
    "\n",
    "    return within_threshold"
   ]
  },
  {
   "cell_type": "code",
   "execution_count": 15,
   "metadata": {},
   "outputs": [
    {
     "name": "stdout",
     "output_type": "stream",
     "text": [
      "Found 989 items within a distance of 100\n",
      "Execution time: 2.297866106033325 seconds\n"
     ]
    }
   ],
   "source": [
    "\n",
    "\n",
    "# Time the execution\n",
    "start_time = time.time()\n",
    "\n",
    "items_within_threshold = find_within_threshold(client_x, client_y, items, threshold)\n",
    "\n",
    "end_time = time.time()\n",
    "\n",
    "print(f\"Found {len(items_within_threshold)} items within a distance of {threshold}\")\n",
    "print(f\"Execution time: {end_time - start_time} seconds\")\n"
   ]
  },
  {
   "cell_type": "code",
   "execution_count": 16,
   "metadata": {},
   "outputs": [],
   "source": [
    "from collections import defaultdict\n",
    "\n",
    "def interleave(x, y, precision=20):\n",
    "    result = 0\n",
    "    for i in range(precision):\n",
    "        result |= ((x & (1 << i)) << i) | ((y & (1 << i)) << (i + 1))\n",
    "    return result >> 4 # Exclude the last 4 bits\n",
    "\n",
    "# Interleave the coordinates and sort\n",
    "grids = defaultdict(list)\n",
    "for item in items:\n",
    "    key = interleave(*item)\n",
    "    grids[key].append(item)\n",
    "\n",
    "\n"
   ]
  },
  {
   "cell_type": "code",
   "execution_count": 19,
   "metadata": {},
   "outputs": [
    {
     "name": "stdout",
     "output_type": "stream",
     "text": [
      "Number of items in target location and neighboring grids: 1294\n",
      "Time taken: 0.01802372932434082 seconds\n"
     ]
    }
   ],
   "source": [
    "\n",
    "start = time.time()\n",
    "# Search for target and neighboring grids\n",
    "count = 0\n",
    "for offset in range(-25, 26):\n",
    "    for offset_y in range(-25, 26):\n",
    "        neighbor_key = interleave(client_x + offset * 4, client_y + offset_y * 4)\n",
    "        items_in_grid = grids[neighbor_key]\n",
    "        count += len(items_in_grid)\n",
    "        # for item in items_in_grid:\n",
    "        #     if euclidean_distance(*item, client_x, client_y) <= threshold:\n",
    "        #         count += 1\n",
    "\n",
    "end = time.time()\n",
    "\n",
    "print(\"Number of items in target location and neighboring grids:\", count)\n",
    "print(\"Time taken:\", end - start, \"seconds\")"
   ]
  },
  {
   "cell_type": "code",
   "execution_count": 20,
   "metadata": {},
   "outputs": [
    {
     "name": "stdout",
     "output_type": "stream",
     "text": [
      "Number of items in target location and neighboring grids: 989\n",
      "Time taken: 0.018601417541503906 seconds\n"
     ]
    }
   ],
   "source": [
    "start = time.time()\n",
    "# Search for target and neighboring grids\n",
    "count = 0\n",
    "for offset in range(-25, 26):\n",
    "    for offset_y in range(-25, 26):\n",
    "        neighbor_key = interleave(client_x + offset * 4, client_y + offset_y * 4)\n",
    "        items_in_grid = grids[neighbor_key]\n",
    "        for item in items_in_grid:\n",
    "            if euclidean_distance(*item, client_x, client_y) <= threshold:\n",
    "                count += 1\n",
    "\n",
    "end = time.time()\n",
    "\n",
    "print(\"Number of items in target location and neighboring grids:\", count)\n",
    "print(\"Time taken:\", end - start, \"seconds\")"
   ]
  },
  {
   "cell_type": "code",
   "execution_count": null,
   "metadata": {},
   "outputs": [],
   "source": []
  }
 ],
 "metadata": {
  "kernelspec": {
   "display_name": "Python 3",
   "language": "python",
   "name": "python3"
  },
  "language_info": {
   "codemirror_mode": {
    "name": "ipython",
    "version": 3
   },
   "file_extension": ".py",
   "mimetype": "text/x-python",
   "name": "python",
   "nbconvert_exporter": "python",
   "pygments_lexer": "ipython3",
   "version": "3.10.2"
  },
  "orig_nbformat": 4
 },
 "nbformat": 4,
 "nbformat_minor": 2
}
